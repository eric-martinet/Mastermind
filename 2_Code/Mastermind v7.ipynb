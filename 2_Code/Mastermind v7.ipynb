{
 "cells": [
  {
   "cell_type": "code",
   "execution_count": 10,
   "id": "165f975d",
   "metadata": {
    "scrolled": true
   },
   "outputs": [],
   "source": [
    "#Global variables\n",
    "code_dict={'R':'RED', 'G':'GREEN', 'B':'BLUE', 'K':'BLACK', 'W':'WHITE', 'P':'PURPLE'}\n",
    "\n",
    "#Initiate player attempts\n",
    "playerloop = 0\n",
    "\n",
    "#Max number of player attempts\n",
    "maxloop = 12\n",
    "\n",
    "#Function random code generator\n",
    "def code_generator():\n",
    "    import random\n",
    "    keylist=code_dict.keys()\n",
    "    codestr= str(random.choice(keylist)*4)\n",
    "    print(codestr)\n",
    "\n",
    "#Function player attempt\n",
    "def playerattempt():\n",
    "    reflist = ['R', 'G', 'B', 'K', 'W', 'P']\n",
    "    userinput = str(input(\"Your pick of 4 initials among the following 6 (R for Red, G for Green, B for Blue, b for black, W for White, P for Purple):\"))\n",
    "    \n",
    "    if len(userinput) != 4:\n",
    "        userinput = str(input(\"Please make sure you actually input a string of 4 initials for the colors!: \"))\n",
    "            \n",
    "    elif userinput.split() not in reflist:\n",
    "        userinput = str(input(\"Please make sure you actually input a string of 4 initials for the colors!: \"))\n",
    "        \n",
    "    else:\n",
    "        playerstr = userinput    \n",
    "        \n",
    "    print(\">>> Your attempt #\", playerloop+1, \"was: \", playerstr)\n",
    "    \n",
    "    \n",
    "#Function compare\n",
    "def compare():\n",
    "    exactmatch=0\n",
    "    nearmatch=0\n",
    "    nomatch=0\n",
    "    for i in range(len(playerstr)):\n",
    "        if playerstr[i]==codestr[i]:\n",
    "            exactmatch +=1\n",
    "        elif playerstr[i] in codestr and playerstr[i]!=codestr[i]:\n",
    "            nearmatch +=1\n",
    "        else:\n",
    "            nomatch +=1\n",
    "    print(\">>> Your result so far: \", exactmatch, \"exact match(es), \", nearmatch, \" near match(es) and \", nomatch, \" miss(es) !\\n\")"
   ]
  },
  {
   "cell_type": "code",
   "execution_count": 11,
   "id": "2e8e9c6e",
   "metadata": {},
   "outputs": [
    {
     "ename": "NameError",
     "evalue": "name 'lst' is not defined",
     "output_type": "error",
     "traceback": [
      "\u001b[1;31m---------------------------------------------------------------------------\u001b[0m",
      "\u001b[1;31mNameError\u001b[0m                                 Traceback (most recent call last)",
      "\u001b[1;32m~\\AppData\\Local\\Temp/ipykernel_15788/2817665112.py\u001b[0m in \u001b[0;36m<module>\u001b[1;34m\u001b[0m\n\u001b[1;32m----> 1\u001b[1;33m \u001b[0mcode_generator\u001b[0m\u001b[1;33m(\u001b[0m\u001b[1;33m)\u001b[0m\u001b[1;33m\u001b[0m\u001b[1;33m\u001b[0m\u001b[0m\n\u001b[0m\u001b[0;32m      2\u001b[0m \u001b[1;33m\u001b[0m\u001b[0m\n\u001b[0;32m      3\u001b[0m \u001b[1;31m#Maxloop control\u001b[0m\u001b[1;33m\u001b[0m\u001b[1;33m\u001b[0m\u001b[0m\n\u001b[0;32m      4\u001b[0m \u001b[1;32mwhile\u001b[0m \u001b[0mplayerloop\u001b[0m \u001b[1;33m<=\u001b[0m \u001b[0mmaxloop\u001b[0m \u001b[1;33m:\u001b[0m\u001b[1;33m\u001b[0m\u001b[1;33m\u001b[0m\u001b[0m\n\u001b[0;32m      5\u001b[0m     \u001b[0mprint\u001b[0m\u001b[1;33m(\u001b[0m\u001b[1;34m\"|||||||THIS IS ATTEMPT #\"\u001b[0m\u001b[1;33m,\u001b[0m \u001b[0mplayerloop\u001b[0m\u001b[1;33m+\u001b[0m\u001b[1;36m1\u001b[0m\u001b[1;33m,\u001b[0m \u001b[1;34m\".\"\u001b[0m\u001b[1;33m,\u001b[0m \u001b[1;34m\"Please make sure you actually input a string of 4 initials for the colors!:\"\u001b[0m\u001b[1;33m)\u001b[0m\u001b[1;33m\u001b[0m\u001b[1;33m\u001b[0m\u001b[0m\n",
      "\u001b[1;32m~\\AppData\\Local\\Temp/ipykernel_15788/747072093.py\u001b[0m in \u001b[0;36mcode_generator\u001b[1;34m()\u001b[0m\n\u001b[0;32m     11\u001b[0m \u001b[1;32mdef\u001b[0m \u001b[0mcode_generator\u001b[0m\u001b[1;33m(\u001b[0m\u001b[1;33m)\u001b[0m\u001b[1;33m:\u001b[0m\u001b[1;33m\u001b[0m\u001b[1;33m\u001b[0m\u001b[0m\n\u001b[0;32m     12\u001b[0m     \u001b[1;32mimport\u001b[0m \u001b[0mrandom\u001b[0m\u001b[1;33m\u001b[0m\u001b[1;33m\u001b[0m\u001b[0m\n\u001b[1;32m---> 13\u001b[1;33m     \u001b[0mkeylist\u001b[0m\u001b[1;33m=\u001b[0m\u001b[0mlst\u001b[0m\u001b[1;33m(\u001b[0m\u001b[0mcode_dict\u001b[0m\u001b[1;33m.\u001b[0m\u001b[0mkeys\u001b[0m\u001b[1;33m(\u001b[0m\u001b[1;33m)\u001b[0m\u001b[1;33m)\u001b[0m\u001b[1;33m\u001b[0m\u001b[1;33m\u001b[0m\u001b[0m\n\u001b[0m\u001b[0;32m     14\u001b[0m     \u001b[0mcodestr\u001b[0m\u001b[1;33m=\u001b[0m \u001b[0mstr\u001b[0m\u001b[1;33m(\u001b[0m\u001b[0mrandom\u001b[0m\u001b[1;33m.\u001b[0m\u001b[0mchoice\u001b[0m\u001b[1;33m(\u001b[0m\u001b[0mkeylist\u001b[0m\u001b[1;33m)\u001b[0m\u001b[1;33m*\u001b[0m\u001b[1;36m4\u001b[0m\u001b[1;33m)\u001b[0m\u001b[1;33m\u001b[0m\u001b[1;33m\u001b[0m\u001b[0m\n\u001b[0;32m     15\u001b[0m     \u001b[0mprint\u001b[0m\u001b[1;33m(\u001b[0m\u001b[0mcodestr\u001b[0m\u001b[1;33m)\u001b[0m\u001b[1;33m\u001b[0m\u001b[1;33m\u001b[0m\u001b[0m\n",
      "\u001b[1;31mNameError\u001b[0m: name 'lst' is not defined"
     ]
    }
   ],
   "source": [
    "code_generator()            \n",
    "\n",
    "#Maxloop control    \n",
    "while playerloop <= maxloop :\n",
    "    print(\"|||||||THIS IS ATTEMPT #\", playerloop+1, \".\", \"Please make sure you actually input a string of 4 initials for the colors!:\")\n",
    "    playerattempt()\n",
    "    compare()\n",
    "    if playerstr == codestr:\n",
    "        print(\"YOU'RE A WINNER: CONGRATS!\")\n",
    "        break\n",
    "        codestr= ''\n",
    "           \n",
    "    playerloop +=1\n",
    "    playerstr = ''\n",
    "       \n",
    "    if playerstr != codestr and playerloop == maxloop:\n",
    "        print(\"THIS WAS YOUR LAST ATTEMPT AND THIS IS A GAME OVER MESSAGE ! PLEASE PLAY AGAIN SOON...\")\n",
    "        break\n",
    "        codestr= ''"
   ]
  },
  {
   "cell_type": "code",
   "execution_count": null,
   "id": "1c20d6e6",
   "metadata": {},
   "outputs": [],
   "source": []
  }
 ],
 "metadata": {
  "kernelspec": {
   "display_name": "Python 3 (ipykernel)",
   "language": "python",
   "name": "python3"
  },
  "language_info": {
   "codemirror_mode": {
    "name": "ipython",
    "version": 3
   },
   "file_extension": ".py",
   "mimetype": "text/x-python",
   "name": "python",
   "nbconvert_exporter": "python",
   "pygments_lexer": "ipython3",
   "version": "3.9.7"
  }
 },
 "nbformat": 4,
 "nbformat_minor": 5
}
